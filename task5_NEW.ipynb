{
  "nbformat": 4,
  "nbformat_minor": 0,
  "metadata": {
    "colab": {
      "provenance": []
    },
    "kernelspec": {
      "name": "python3",
      "display_name": "Python 3"
    },
    "language_info": {
      "name": "python"
    }
  },
  "cells": [
    {
      "cell_type": "code",
      "source": [],
      "metadata": {
        "id": "8txfjM-t2tvH"
      },
      "execution_count": null,
      "outputs": []
    },
    {
      "cell_type": "code",
      "source": [
        "import pandas as pd\n",
        "import numpy as np\n",
        "import seaborn as sns\n",
        "import matplotlib.pyplot as plt\n",
        "import torch\n",
        "import torch.nn as nn\n",
        "import torch.optim as optim\n",
        "from torch.utils.data import DataLoader, TensorDataset\n",
        "from sklearn.model_selection import train_test_split\n",
        "from sklearn.feature_extraction.text import TfidfVectorizer\n",
        "from sklearn.preprocessing import LabelEncoder\n",
        "from sklearn.utils.class_weight import compute_class_weight\n",
        "from sklearn.metrics import classification_report, confusion_matrix\n",
        "from tqdm import tqdm\n",
        "from imblearn.over_sampling import SMOTE\n",
        "\n",
        "# Check for GPU\n",
        "device = torch.device(\"cuda\" if torch.cuda.is_available() else \"cpu\")\n",
        "print(f\"Using device: {device}\")\n",
        "\n",
        "# Load dataset\n",
        "df = pd.read_csv(\"https://files.consumerfinance.gov/ccdb/complaints.csv.zip\", compression='zip', low_memory=False, nrows=550000)\n",
        "df = df[['Product', 'Issue', 'Sub-issue']].dropna()\n",
        "\n",
        "# Classify product category\n",
        "def classify_product(text):\n",
        "    text = text.lower()\n",
        "    if any(word in text for word in [\"credit\", \"credit reporting\", \"repair\", \"others\"]):\n",
        "        return 0\n",
        "    if any(word in text for word in [\"debt\", \"debt collection\"]):\n",
        "        return 1\n",
        "    if any(word in text for word in [\"loan\", \"consumer loan\"]):\n",
        "        return 2\n",
        "    if \"mortgage\" in text:\n",
        "        return 3\n",
        "    return -1\n",
        "\n",
        "df['Product_Category'] = df['Product'].apply(classify_product)\n",
        "df = df[df['Product_Category'] != -1]\n",
        "df['text'] = df['Issue'] + ' ' + df['Sub-issue']\n",
        "\n",
        "# Visualize class distribution before balancing\n",
        "sns.countplot(x=df['Product_Category'])\n",
        "plt.title(\"Class Distribution Before Balancing\")\n",
        "plt.show()\n",
        "\n",
        "# Train-test split\n",
        "X_train_text, X_test_text, y_train, y_test = train_test_split(df['text'], df['Product_Category'], test_size=0.4, random_state=42, stratify=df['Product_Category'])\n",
        "\n",
        "# Text vectorization using TF-IDF\n",
        "vectorizer = TfidfVectorizer(max_features=5000)\n",
        "X_train = vectorizer.fit_transform(X_train_text).toarray()\n",
        "X_test = vectorizer.transform(X_test_text).toarray()\n",
        "\n",
        "# Apply SMOTE to balance classes\n",
        "smote = SMOTE(random_state=42)\n",
        "X_train, y_train = smote.fit_resample(X_train, y_train)\n",
        "\n",
        "# Visualize class distribution after balancing\n",
        "sns.countplot(x=y_train)\n",
        "plt.title(\"Class Distribution After Balancing\")\n",
        "plt.show()\n",
        "\n",
        "# Compute class weights\n",
        "class_weights = compute_class_weight('balanced', classes=np.unique(y_train), y=y_train)\n",
        "class_weights = torch.tensor(class_weights, dtype=torch.float32, device=device)\n",
        "\n",
        "# Convert to PyTorch tensors\n",
        "X_train_tensor = torch.tensor(X_train, dtype=torch.float32, device=device)\n",
        "y_train_tensor = torch.tensor(y_train, dtype=torch.long, device=device)\n",
        "X_test_tensor = torch.tensor(X_test, dtype=torch.float32, device=device)\n",
        "y_test_tensor = torch.tensor(y_test.to_numpy(), dtype=torch.long, device=device)\n",
        "\n",
        "train_dataset = TensorDataset(X_train_tensor, y_train_tensor)\n",
        "test_dataset = TensorDataset(X_test_tensor, y_test_tensor)\n",
        "train_loader = DataLoader(train_dataset, batch_size=32, shuffle=True)\n",
        "test_loader = DataLoader(test_dataset, batch_size=32, shuffle=False)\n",
        "\n",
        "# Define BiLSTM model with Dropout for regularization\n",
        "class BiLSTM(nn.Module):\n",
        "    def __init__(self, input_dim, hidden_dim, output_dim, dropout_prob=0.3):\n",
        "        super(BiLSTM, self).__init__()\n",
        "        self.lstm = nn.LSTM(input_dim, hidden_dim, batch_first=True, bidirectional=True)\n",
        "        self.dropout = nn.Dropout(dropout_prob)\n",
        "        self.fc = nn.Linear(hidden_dim * 2, output_dim)\n",
        "\n",
        "    def forward(self, x):\n",
        "        x = x.unsqueeze(1)\n",
        "        lstm_out, _ = self.lstm(x)\n",
        "        x = self.dropout(lstm_out[:, -1, :])\n",
        "        return self.fc(x)\n",
        "\n",
        "# Define CNN-LSTM model with Dropout for regularization\n",
        "class CNN_LSTM(nn.Module):\n",
        "    def __init__(self, input_dim, num_filters, kernel_size, hidden_dim, output_dim, dropout_prob=0.3):\n",
        "        super(CNN_LSTM, self).__init__()\n",
        "        self.conv1 = nn.Conv1d(in_channels=1, out_channels=num_filters, kernel_size=kernel_size)\n",
        "        self.lstm = nn.LSTM(num_filters, hidden_dim, batch_first=True)\n",
        "        self.dropout = nn.Dropout(dropout_prob)\n",
        "        self.fc = nn.Linear(hidden_dim, output_dim)\n",
        "\n",
        "    def forward(self, x):\n",
        "        x = x.unsqueeze(1)\n",
        "        x = torch.relu(self.conv1(x))\n",
        "        x = x.permute(0, 2, 1)\n",
        "        lstm_out, _ = self.lstm(x)\n",
        "        x = self.dropout(lstm_out[:, -1, :])\n",
        "        return self.fc(x)\n",
        "\n",
        "# Define Hybrid CNN-BiLSTM Model\n",
        "class HybridCNNBiLSTM(nn.Module):\n",
        "    def __init__(self, input_dim, num_filters, kernel_size, hidden_dim, output_dim, dropout_prob=0.3):\n",
        "        super(HybridCNNBiLSTM, self).__init__()\n",
        "        self.conv1 = nn.Conv1d(in_channels=1, out_channels=num_filters, kernel_size=kernel_size)\n",
        "        self.lstm = nn.LSTM(num_filters, hidden_dim, batch_first=True, bidirectional=True)\n",
        "        self.dropout = nn.Dropout(dropout_prob)\n",
        "        self.fc = nn.Linear(hidden_dim * 2, output_dim)\n",
        "\n",
        "    def forward(self, x):\n",
        "        x = x.unsqueeze(1)\n",
        "        x = torch.relu(self.conv1(x))\n",
        "        x = x.permute(0, 2, 1)\n",
        "        lstm_out, _ = self.lstm(x)\n",
        "        x = self.dropout(lstm_out[:, -1, :])\n",
        "        return self.fc(x)\n",
        "\n",
        "# Initialize models\n",
        "input_dim = X_train_tensor.shape[1]\n",
        "hidden_dim = 128\n",
        "output_dim = len(np.unique(y_train))\n",
        "num_filters = 64\n",
        "kernel_size = 3\n",
        "dropout_prob = 0.3\n",
        "\n",
        "bilstm_model = BiLSTM(input_dim, hidden_dim, output_dim, dropout_prob).to(device)\n",
        "cnn_lstm_model = CNN_LSTM(input_dim, num_filters, kernel_size, hidden_dim, output_dim, dropout_prob).to(device)\n",
        "hybrid_cnn_bilstm_model = HybridCNNBiLSTM(input_dim, num_filters, kernel_size, hidden_dim, output_dim, dropout_prob).to(device)\n",
        "\n",
        "# Training function with learning rate scheduler\n",
        "def train_model(model, train_loader, test_loader, criterion, optimizer, scheduler, epochs=3):\n",
        "    model.train()\n",
        "    for epoch in range(epochs):\n",
        "        running_loss = 0.0\n",
        "        progress_bar = tqdm(train_loader, desc=f\"Epoch {epoch+1}/{epochs}\", leave=False)\n",
        "        for X_batch, y_batch in progress_bar:\n",
        "            optimizer.zero_grad()\n",
        "            outputs = model(X_batch)\n",
        "            loss = criterion(outputs, y_batch)\n",
        "            loss.backward()\n",
        "            optimizer.step()\n",
        "            running_loss += loss.item()\n",
        "            progress_bar.set_postfix(loss=loss.item())\n",
        "        scheduler.step()  # Update the learning rate\n",
        "        print(f\"Epoch {epoch+1}, Loss: {running_loss / len(train_loader):.4f}\")\n",
        "\n",
        "# Optimizer, scheduler, and training\n",
        "optimizer_bilstm = optim.Adam(bilstm_model.parameters(), lr=0.001)\n",
        "scheduler_bilstm = optim.lr_scheduler.StepLR(optimizer_bilstm, step_size=1, gamma=0.7)  # Reduce LR every epoch\n",
        "\n",
        "optimizer_cnn_lstm = optim.Adam(cnn_lstm_model.parameters(), lr=0.001)\n",
        "scheduler_cnn_lstm = optim.lr_scheduler.StepLR(optimizer_cnn_lstm, step_size=1, gamma=0.7)\n",
        "\n",
        "optimizer_hybrid = optim.Adam(hybrid_cnn_bilstm_model.parameters(), lr=0.001)\n",
        "scheduler_hybrid = optim.lr_scheduler.StepLR(optimizer_hybrid, step_size=1, gamma=0.7)\n",
        "\n",
        "print(\"Training BiLSTM...\")\n",
        "train_model(bilstm_model, train_loader, test_loader, nn.CrossEntropyLoss(weight=class_weights), optimizer_bilstm, scheduler_bilstm)\n",
        "print(\"Training CNN-LSTM...\")\n",
        "train_model(cnn_lstm_model, train_loader, test_loader, nn.CrossEntropyLoss(weight=class_weights), optimizer_cnn_lstm, scheduler_cnn_lstm)\n",
        "print(\"Training Hybrid CNN-BiLSTM...\")\n",
        "train_model(hybrid_cnn_bilstm_model, train_loader, test_loader, nn.CrossEntropyLoss(weight=class_weights), optimizer_hybrid, scheduler_hybrid)\n",
        "\n",
        "# Evaluate models\n",
        "def evaluate_model(model, test_loader):\n",
        "    model.eval()\n",
        "    y_true, y_pred = [], []\n",
        "    with torch.no_grad():\n",
        "        for X_batch, y_batch in test_loader:\n",
        "            outputs = model(X_batch)\n",
        "            _, predicted = torch.max(outputs, 1)\n",
        "            y_true.extend(y_batch.cpu().numpy())\n",
        "            y_pred.extend(predicted.cpu().numpy())\n",
        "    return y_true, y_pred\n",
        "\n",
        "y_true_bilstm, y_pred_bilstm = evaluate_model(bilstm_model, test_loader)\n",
        "y_true_cnn_lstm, y_pred_cnn_lstm = evaluate_model(cnn_lstm_model, test_loader)\n",
        "y_true_hybrid, y_pred_hybrid = evaluate_model(hybrid_cnn_bilstm_model, test_loader)\n",
        "\n",
        "print(\"Classification Report for BiLSTM:\")\n",
        "print(classification_report(y_true_bilstm, y_pred_bilstm))\n",
        "print(\"Classification Report for CNN-LSTM:\")\n",
        "print(classification_report(y_true_cnn_lstm, y_pred_cnn_lstm))\n",
        "print(\"Classification Report for Hybrid CNN-BiLSTM:\")\n",
        "print(classification_report(y_true_hybrid, y_pred_hybrid))\n"
      ],
      "metadata": {
        "colab": {
          "base_uri": "https://localhost:8080/",
          "height": 1000
        },
        "id": "XQS_i13s3bku",
        "outputId": "be97687f-4d30-4fbf-c981-68d1b4d514e7"
      },
      "execution_count": 1,
      "outputs": [
        {
          "output_type": "stream",
          "name": "stdout",
          "text": [
            "Using device: cuda\n"
          ]
        },
        {
          "output_type": "stream",
          "name": "stderr",
          "text": [
            "<ipython-input-1-6349448a1727>:40: SettingWithCopyWarning: \n",
            "A value is trying to be set on a copy of a slice from a DataFrame.\n",
            "Try using .loc[row_indexer,col_indexer] = value instead\n",
            "\n",
            "See the caveats in the documentation: https://pandas.pydata.org/pandas-docs/stable/user_guide/indexing.html#returning-a-view-versus-a-copy\n",
            "  df['text'] = df['Issue'] + ' ' + df['Sub-issue']\n"
          ]
        },
        {
          "output_type": "display_data",
          "data": {
            "text/plain": [
              "<Figure size 640x480 with 1 Axes>"
            ],
            "image/png": "[encoded data removed]"
          },
          "metadata": {}
        },
        {
          "output_type": "display_data",
          "data": {
            "text/plain": [
              "<Figure size 640x480 with 1 Axes>"
            ],
            "image/png": "[encoded data removed]"
          },
          "metadata": {}
        },
        {
          "output_type": "stream",
          "name": "stdout",
          "text": [
            "Training BiLSTM...\n"
          ]
        },
        {
          "output_type": "stream",
          "name": "stderr",
          "text": []
        },
        {
          "output_type": "stream",
          "name": "stdout",
          "text": [
            "Epoch 1, Loss: 0.1326\n"
          ]
        },
        {
          "output_type": "stream",
          "name": "stderr",
          "text": []
        },
        {
          "output_type": "stream",
          "name": "stdout",
          "text": [
            "Epoch 2, Loss: 0.1242\n"
          ]
        },
        {
          "output_type": "stream",
          "name": "stderr",
          "text": []
        },
        {
          "output_type": "stream",
          "name": "stdout",
          "text": [
            "Epoch 3, Loss: 0.1223\n",
            "Training CNN-LSTM...\n"
          ]
        },
        {
          "output_type": "stream",
          "name": "stderr",
          "text": []
        },
        {
          "output_type": "stream",
          "name": "stdout",
          "text": [
            "Epoch 1, Loss: 0.4427\n"
          ]
        },
        {
          "output_type": "stream",
          "name": "stderr",
          "text": []
        },
        {
          "output_type": "stream",
          "name": "stdout",
          "text": [
            "Epoch 2, Loss: 0.2659\n"
          ]
        },
        {
          "output_type": "stream",
          "name": "stderr",
          "text": []
        },
        {
          "output_type": "stream",
          "name": "stdout",
          "text": [
            "Epoch 3, Loss: 0.1386\n",
            "Training Hybrid CNN-BiLSTM...\n"
          ]
        },
        {
          "output_type": "stream",
          "name": "stderr",
          "text": []
        },
        {
          "output_type": "stream",
          "name": "stdout",
          "text": [
            "Epoch 1, Loss: 0.3316\n"
          ]
        },
        {
          "output_type": "stream",
          "name": "stderr",
          "text": []
        },
        {
          "output_type": "stream",
          "name": "stdout",
          "text": [
            "Epoch 2, Loss: 0.2470\n"
          ]
        },
        {
          "output_type": "stream",
          "name": "stderr",
          "text": []
        },
        {
          "output_type": "stream",
          "name": "stdout",
          "text": [
            "Epoch 3, Loss: 0.1489\n",
            "Classification Report for BiLSTM:\n",
            "              precision    recall  f1-score   support\n",
            "\n",
            "           0       1.00      0.99      1.00    190027\n",
            "           1       1.00      1.00      1.00      7926\n",
            "           2       0.81      0.86      0.84      1471\n",
            "           3       0.50      0.95      0.65       885\n",
            "\n",
            "    accuracy                           0.99    200309\n",
            "   macro avg       0.83      0.95      0.87    200309\n",
            "weighted avg       1.00      0.99      0.99    200309\n",
            "\n",
            "Classification Report for CNN-LSTM:\n",
            "              precision    recall  f1-score   support\n",
            "\n",
            "           0       1.00      0.99      1.00    190027\n",
            "           1       0.99      1.00      1.00      7926\n",
            "           2       0.48      0.86      0.62      1471\n",
            "           3       0.99      0.95      0.97       885\n",
            "\n",
            "    accuracy                           0.99    200309\n",
            "   macro avg       0.87      0.95      0.89    200309\n",
            "weighted avg       0.99      0.99      0.99    200309\n",
            "\n",
            "Classification Report for Hybrid CNN-BiLSTM:\n",
            "              precision    recall  f1-score   support\n",
            "\n",
            "           0       1.00      1.00      1.00    190027\n",
            "           1       0.98      1.00      0.99      7926\n",
            "           2       0.75      0.86      0.80      1471\n",
            "           3       0.91      0.95      0.93       885\n",
            "\n",
            "    accuracy                           1.00    200309\n",
            "   macro avg       0.91      0.95      0.93    200309\n",
            "weighted avg       1.00      1.00      1.00    200309\n",
            "\n"
          ]
        }
      ]
    },
    {
      "cell_type": "code",
      "source": [
        "def predict_sample_text(model, sample_texts):\n",
        "    # Set the model to evaluation mode\n",
        "    model.eval()\n",
        "\n",
        "    # Vectorize the sample texts using the fitted TF-IDF vectorizer\n",
        "    sample_vectors = vectorizer.transform(sample_texts).toarray()\n",
        "\n",
        "    # Convert to a PyTorch tensor and move it to the appropriate device (GPU/CPU)\n",
        "    sample_tensor = torch.tensor(sample_vectors, dtype=torch.float32, device=device)\n",
        "\n",
        "    # Perform inference without computing gradients\n",
        "    with torch.no_grad():\n",
        "        # Get model outputs\n",
        "        outputs = model(sample_tensor)\n",
        "\n",
        "        # Get the predicted class (the class with the maximum score)\n",
        "        _, predictions = torch.max(outputs, 1)\n",
        "\n",
        "    # Define the label mapping for the predicted class indices\n",
        "    label_map = {0: \"Credit\", 1: \"Debt\", 2: \"Loan\", 3: \"Mortgage\"}\n",
        "\n",
        "    # Return the predicted labels\n",
        "    return [label_map[pred.item()] for pred in predictions]\n",
        "\n",
        "# Example sample texts to test the function\n",
        "sample_texts = [\n",
        "    \"I have an issue with my credit report being incorrect.\",\n",
        "    \"Debt collection agency is harassing me.\",\n",
        "    \"I need help with my student loan repayment.\",\n",
        "    \"My mortgage payment was miscalculated.\"\n",
        "]\n",
        "\n",
        "# Use the updated function with BiLSTM, CNN-LSTM, and Hybrid CNN-BiLSTM models\n",
        "print(\"BiLSTM Predictions:\", predict_sample_text(bilstm_model, sample_texts))\n",
        "print(\"CNN + LSTM Predictions:\", predict_sample_text(cnn_lstm_model, sample_texts))\n",
        "print(\"Hybrid CNN-BiLSTM Predictions:\", predict_sample_text(hybrid_cnn_bilstm_model, sample_texts))\n"
      ],
      "metadata": {
        "colab": {
          "base_uri": "https://localhost:8080/"
        },
        "id": "nQz-3dCUCV4P",
        "outputId": "e181566a-5d90-4263-e26b-7544cd586c5b"
      },
      "execution_count": 2,
      "outputs": [
        {
          "output_type": "stream",
          "name": "stdout",
          "text": [
            "BiLSTM Predictions: ['Credit', 'Debt', 'Loan', 'Mortgage']\n",
            "CNN + LSTM Predictions: ['Loan', 'Loan', 'Loan', 'Debt']\n",
            "Hybrid CNN-BiLSTM Predictions: ['Credit', 'Loan', 'Loan', 'Debt']\n"
          ]
        }
      ]
    }
  ]
}