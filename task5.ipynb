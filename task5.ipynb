{
  "nbformat": 4,
  "nbformat_minor": 0,
  "metadata": {
    "colab": {
      "provenance": []
    },
    "kernelspec": {
      "name": "python3",
      "display_name": "Python 3"
    },
    "language_info": {
      "name": "python"
    }
  },
  "cells": [
    {
      "cell_type": "code",
      "source": [
        "import pandas as pd\n",
        "import numpy as np\n",
        "import seaborn as sns\n",
        "import matplotlib.pyplot as plt\n",
        "import nltk\n",
        "import torch\n",
        "import torch.nn as nn\n",
        "import torch.optim as optim\n",
        "from torch.utils.data import DataLoader, TensorDataset\n",
        "from sklearn.model_selection import train_test_split\n",
        "from sklearn.feature_extraction.text import TfidfVectorizer\n",
        "from sklearn.preprocessing import LabelEncoder\n",
        "from sklearn.utils.class_weight import compute_class_weight\n",
        "from imblearn.over_sampling import SMOTE\n",
        "from sklearn.metrics import classification_report\n",
        "from tqdm import tqdm\n",
        "\n",
        "# Check for GPU\n",
        "device = torch.device(\"cuda\" if torch.cuda.is_available() else \"cpu\")\n",
        "print(f\"Using device: {device}\")\n",
        "\n",
        "# Download NLTK resources\n",
        "nltk.download('stopwords')\n",
        "nltk.download('wordnet')\n",
        "\n",
        "# Load dataset\n",
        "df = pd.read_csv(\"https://files.consumerfinance.gov/ccdb/complaints.csv.zip\", compression='zip', low_memory=False, nrows=500000)\n",
        "df = df[['Product', 'Issue', 'Sub-issue']].dropna()\n",
        "\n",
        "# Function to classify product category\n",
        "def classify_product(text):\n",
        "    text = text.lower()\n",
        "    if any(word in text for word in [\"credit reporting\", \"credit repair\", \"other\"]):\n",
        "        return 0\n",
        "    if \"debt collection\" in text:\n",
        "        return 1\n",
        "    if any(word in text for word in [\"loan\", \"consumer loan\"]):\n",
        "        return 2\n",
        "    if \"mortgage\" in text:\n",
        "        return 3\n",
        "    return -1\n",
        "\n",
        "df['Product'] = df[['Product', 'Issue', 'Sub-issue']].astype(str).agg(' '.join, axis=1).apply(classify_product)\n",
        "df = df[df['Product'] != -1]\n",
        "df['text'] = df['Issue'] + ' ' + df['Sub-issue']\n",
        "\n",
        "# Visualize class distribution before balancing\n",
        "sns.countplot(x=df['Product'])\n",
        "plt.title(\"Class Distribution Before Balancing\")\n",
        "plt.show()\n",
        "\n",
        "# Train-test split before oversampling\n",
        "X_train_text, X_test_text, y_train, y_test = train_test_split(df['text'], df['Product'], test_size=0.3, random_state=42, stratify=df['Product'])\n",
        "\n",
        "# Text vectorization using TF-IDF\n",
        "vectorizer = TfidfVectorizer(max_features=5000)\n",
        "X_train = vectorizer.fit_transform(X_train_text).toarray()\n",
        "X_test = vectorizer.transform(X_test_text).toarray()\n",
        "\n",
        "# Apply SMOTE only to training data\n",
        "smote = SMOTE()\n",
        "X_train, y_train = smote.fit_resample(X_train, y_train)\n",
        "\n",
        "# Visualize class distribution after balancing\n",
        "sns.countplot(x=y_train)\n",
        "plt.title(\"Class Distribution After Balancing\")\n",
        "plt.show()\n",
        "\n",
        "# Compute class weights for loss function\n",
        "class_weights = compute_class_weight('balanced', classes=np.unique(y_train), y=y_train)\n",
        "class_weights = torch.tensor(class_weights, dtype=torch.float32, device=device)\n",
        "\n",
        "# Convert to PyTorch tensors\n",
        "X_train_tensor = torch.tensor(X_train, dtype=torch.float32, device=device)\n",
        "y_train_tensor = torch.tensor(y_train.to_numpy(), dtype=torch.long, device=device)\n",
        "X_test_tensor = torch.tensor(X_test, dtype=torch.float32, device=device)\n",
        "y_test_tensor = torch.tensor(y_test.to_numpy(), dtype=torch.long, device=device)\n",
        "\n",
        "train_dataset = TensorDataset(X_train_tensor, y_train_tensor)\n",
        "test_dataset = TensorDataset(X_test_tensor, y_test_tensor)\n",
        "train_loader = DataLoader(train_dataset, batch_size=32, shuffle=True)\n",
        "test_loader = DataLoader(test_dataset, batch_size=32, shuffle=False)\n",
        "\n",
        "# Define BiLSTM model\n",
        "class BiLSTM(nn.Module):\n",
        "    def __init__(self, input_dim, hidden_dim, output_dim):\n",
        "        super(BiLSTM, self).__init__()\n",
        "        self.lstm = nn.LSTM(input_dim, hidden_dim, batch_first=True, bidirectional=True)\n",
        "        self.fc = nn.Linear(hidden_dim * 2, output_dim)\n",
        "\n",
        "    def forward(self, x):\n",
        "        x = x.unsqueeze(1)  # Add sequence dimension\n",
        "        lstm_out, _ = self.lstm(x)\n",
        "        return self.fc(lstm_out[:, -1, :])\n",
        "\n",
        "# Initialize model\n",
        "input_dim = X_train_tensor.shape[1]\n",
        "hidden_dim = 128\n",
        "output_dim = len(np.unique(y_train))\n",
        "model = BiLSTM(input_dim, hidden_dim, output_dim).to(device)\n",
        "\n",
        "# Define optimizer, loss function, and scheduler\n",
        "optimizer = optim.AdamW(model.parameters(), lr=0.001, weight_decay=1e-4)\n",
        "scheduler = optim.lr_scheduler.ReduceLROnPlateau(optimizer, mode='min', factor=0.5, patience=2)\n",
        "criterion = nn.CrossEntropyLoss(weight=class_weights)\n",
        "\n",
        "# Train model with early stopping and learning rate scheduler\n",
        "epochs = 5\n",
        "patience = 3\n",
        "best_loss = float('inf')\n",
        "stagnant_epochs = 0\n",
        "train_losses, val_losses = [], []\n",
        "\n",
        "for epoch in range(epochs):\n",
        "    model.train()\n",
        "    running_loss = 0.0\n",
        "    progress_bar = tqdm(train_loader, desc=f\"Epoch {epoch+1}/{epochs}\", leave=False)\n",
        "\n",
        "    for X_batch, y_batch in progress_bar:\n",
        "        optimizer.zero_grad()\n",
        "        outputs = model(X_batch)\n",
        "        loss = criterion(outputs, y_batch)\n",
        "        loss.backward()\n",
        "        optimizer.step()\n",
        "        running_loss += loss.item()\n",
        "\n",
        "        progress_bar.set_postfix(loss=loss.item())\n",
        "\n",
        "    train_loss = running_loss / len(train_loader)\n",
        "    train_losses.append(train_loss)\n",
        "\n",
        "    # Validation\n",
        "    model.eval()\n",
        "    val_loss = 0.0\n",
        "    with torch.no_grad():\n",
        "        for X_batch, y_batch in test_loader:\n",
        "            outputs = model(X_batch)\n",
        "            loss = criterion(outputs, y_batch)\n",
        "            val_loss += loss.item()\n",
        "    val_loss /= len(test_loader)\n",
        "    val_losses.append(val_loss)\n",
        "    scheduler.step(val_loss)\n",
        "\n",
        "    print(f\"Epoch {epoch+1}/{epochs}, Train Loss: {train_loss:.4f}, Val Loss: {val_loss:.4f}\")\n",
        "\n",
        "    if val_loss < best_loss:\n",
        "        best_loss = val_loss\n",
        "        stagnant_epochs = 0\n",
        "    else:\n",
        "        stagnant_epochs += 1\n",
        "        if stagnant_epochs >= patience:\n",
        "            print(\"Early stopping triggered.\")\n",
        "            break\n",
        "\n",
        "# Evaluate model and generate classification report\n",
        "model.eval()\n",
        "y_true, y_pred = [], []\n",
        "\n",
        "with torch.no_grad():\n",
        "    for X_batch, y_batch in test_loader:\n",
        "        outputs = model(X_batch)\n",
        "        _, predicted = torch.max(outputs, 1)\n",
        "        y_true.extend(y_batch.cpu().numpy())\n",
        "        y_pred.extend(predicted.cpu().numpy())\n",
        "\n",
        "# Print classification report\n",
        "print(classification_report(y_true, y_pred, target_names=[\"Credit\", \"Debt\", \"Loan\", \"Mortgage\"]))\n",
        "\n",
        "# Function to predict category for a sample text\n",
        "def predict_sample(text):\n",
        "    text_vectorized = vectorizer.transform([text]).toarray()\n",
        "    text_tensor = torch.tensor(text_vectorized, dtype=torch.float32, device=device)\n",
        "\n",
        "    model.eval()\n",
        "    with torch.no_grad():\n",
        "        output = model(text_tensor)\n",
        "        _, predicted = torch.max(output, 1)\n",
        "\n",
        "    label_map = {0: \"Credit\", 1: \"Debt\", 2: \"Loan\", 3: \"Mortgage\"}\n",
        "    return label_map[predicted.item()]\n",
        "\n",
        "# Example sample predictions\n",
        "sample_texts = [\n",
        "    \"I have an issue with my credit report being incorrect.\",\n",
        "    \"Debt collection agency is harassing me.\",\n",
        "    \"I need help with my student loan repayment.\",\n",
        "    \"My mortgage payment was miscalculated.\"\n",
        "]\n",
        "\n",
        "for text in sample_texts:\n",
        "    print(f\"Text: {text}\\nPredicted Category: {predict_sample(text)}\\n\")\n"
      ],
      "metadata": {
        "colab": {
          "base_uri": "https://localhost:8080/",
          "height": 1000
        },
        "id": "iwLgsOlB7Ptc",
        "outputId": "fae4c0b9-f264-4dc1-bbaa-16863171ee89"
      },
      "execution_count": 5,
      "outputs": [
        {
          "output_type": "stream",
          "name": "stdout",
          "text": [
            "Using device: cuda\n"
          ]
        },
        {
          "output_type": "stream",
          "name": "stderr",
          "text": [
            "[nltk_data] Downloading package stopwords to /root/nltk_data...\n",
            "[nltk_data]   Package stopwords is already up-to-date!\n",
            "[nltk_data] Downloading package wordnet to /root/nltk_data...\n",
            "[nltk_data]   Package wordnet is already up-to-date!\n"
          ]
        },
        {
          "output_type": "display_data",
          "data": {
            "text/plain": [
              "<Figure size 640x480 with 1 Axes>"
            ],
            "image/png": "[encoded data removed]"
          },
          "metadata": {}
        },
        {
          "output_type": "display_data",
          "data": {
            "text/plain": [
              "<Figure size 640x480 with 1 Axes>"
            ],
            "image/png": "[encoded data removed]"
          },
          "metadata": {}
        },
        {
          "output_type": "stream",
          "name": "stderr",
          "text": []
        },
        {
          "output_type": "stream",
          "name": "stdout",
          "text": [
            "Epoch 1/5, Train Loss: 0.1426, Val Loss: 0.1727\n"
          ]
        },
        {
          "output_type": "stream",
          "name": "stderr",
          "text": []
        },
        {
          "output_type": "stream",
          "name": "stdout",
          "text": [
            "Epoch 2/5, Train Loss: 0.1341, Val Loss: 0.1569\n"
          ]
        },
        {
          "output_type": "stream",
          "name": "stderr",
          "text": []
        },
        {
          "output_type": "stream",
          "name": "stdout",
          "text": [
            "Epoch 3/5, Train Loss: 0.1331, Val Loss: 0.1741\n"
          ]
        },
        {
          "output_type": "stream",
          "name": "stderr",
          "text": []
        },
        {
          "output_type": "stream",
          "name": "stdout",
          "text": [
            "Epoch 4/5, Train Loss: 0.1326, Val Loss: 0.1493\n"
          ]
        },
        {
          "output_type": "stream",
          "name": "stderr",
          "text": []
        },
        {
          "output_type": "stream",
          "name": "stdout",
          "text": [
            "Epoch 5/5, Train Loss: 0.1324, Val Loss: 0.1446\n",
            "              precision    recall  f1-score   support\n",
            "\n",
            "      Credit       1.00      0.99      1.00    128241\n",
            "        Debt       1.00      1.00      1.00      5536\n",
            "        Loan       0.88      0.89      0.88      1106\n",
            "    Mortgage       0.43      0.93      0.59       428\n",
            "\n",
            "    accuracy                           0.99    135311\n",
            "   macro avg       0.83      0.95      0.87    135311\n",
            "weighted avg       1.00      0.99      0.99    135311\n",
            "\n",
            "Text: I have an issue with my credit report being incorrect.\n",
            "Predicted Category: Credit\n",
            "\n",
            "Text: Debt collection agency is harassing me.\n",
            "Predicted Category: Credit\n",
            "\n",
            "Text: I need help with my student loan repayment.\n",
            "Predicted Category: Loan\n",
            "\n",
            "Text: My mortgage payment was miscalculated.\n",
            "Predicted Category: Mortgage\n",
            "\n"
          ]
        }
      ]
    }
  ]
}